{
 "cells": [
  {
   "cell_type": "markdown",
   "metadata": {},
   "source": [
    "1. Import"
   ]
  },
  {
   "cell_type": "code",
   "execution_count": 30,
   "metadata": {},
   "outputs": [
    {
     "name": "stdout",
     "output_type": "stream",
     "text": [
      "852950\n"
     ]
    }
   ],
   "source": [
    "import pandas as pd\n",
    "# import data\n",
    "data = pd.read_csv('Crime_Data_from_2020_to_Present.csv')\n",
    "print(len(data))\n",
    "# data.head()"
   ]
  },
  {
   "cell_type": "markdown",
   "metadata": {},
   "source": [
    "2. Clean Data"
   ]
  },
  {
   "cell_type": "code",
   "execution_count": 31,
   "metadata": {},
   "outputs": [
    {
     "name": "stdout",
     "output_type": "stream",
     "text": [
      "重复行数： 0\n"
     ]
    },
    {
     "name": "stderr",
     "output_type": "stream",
     "text": [
      "/var/folders/jq/2vvn3lwd2ybgjz3x9__s2s9w0000gn/T/ipykernel_14310/4272912286.py:16: FutureWarning: Setting an item of incompatible dtype is deprecated and will raise in a future error of pandas. Value 'Unknown' has dtype incompatible with float64, please explicitly cast to a compatible dtype first.\n",
      "  data.fillna(\"Unknown\", inplace=True)\n",
      "/var/folders/jq/2vvn3lwd2ybgjz3x9__s2s9w0000gn/T/ipykernel_14310/4272912286.py:16: SettingWithCopyWarning: \n",
      "A value is trying to be set on a copy of a slice from a DataFrame\n",
      "\n",
      "See the caveats in the documentation: https://pandas.pydata.org/pandas-docs/stable/user_guide/indexing.html#returning-a-view-versus-a-copy\n",
      "  data.fillna(\"Unknown\", inplace=True)\n"
     ]
    },
    {
     "name": "stdout",
     "output_type": "stream",
     "text": [
      "空值已处理\n",
      "object\n"
     ]
    },
    {
     "data": {
      "text/html": [
       "<div>\n",
       "<style scoped>\n",
       "    .dataframe tbody tr th:only-of-type {\n",
       "        vertical-align: middle;\n",
       "    }\n",
       "\n",
       "    .dataframe tbody tr th {\n",
       "        vertical-align: top;\n",
       "    }\n",
       "\n",
       "    .dataframe thead th {\n",
       "        text-align: right;\n",
       "    }\n",
       "</style>\n",
       "<table border=\"1\" class=\"dataframe\">\n",
       "  <thead>\n",
       "    <tr style=\"text-align: right;\">\n",
       "      <th></th>\n",
       "      <th>date_occurred</th>\n",
       "      <th>area</th>\n",
       "      <th>victim_age</th>\n",
       "      <th>victim_sex</th>\n",
       "      <th>victim_descent</th>\n",
       "      <th>latitude</th>\n",
       "      <th>longitude</th>\n",
       "    </tr>\n",
       "  </thead>\n",
       "  <tbody>\n",
       "    <tr>\n",
       "      <th>0</th>\n",
       "      <td>2020-01-08 22:30:00</td>\n",
       "      <td>3</td>\n",
       "      <td>36</td>\n",
       "      <td>F</td>\n",
       "      <td>B</td>\n",
       "      <td>34.0141</td>\n",
       "      <td>-118.2978</td>\n",
       "    </tr>\n",
       "    <tr>\n",
       "      <th>1</th>\n",
       "      <td>2020-01-01 03:30:00</td>\n",
       "      <td>1</td>\n",
       "      <td>25</td>\n",
       "      <td>M</td>\n",
       "      <td>H</td>\n",
       "      <td>34.0459</td>\n",
       "      <td>-118.2545</td>\n",
       "    </tr>\n",
       "    <tr>\n",
       "      <th>2</th>\n",
       "      <td>2020-02-13 12:00:00</td>\n",
       "      <td>1</td>\n",
       "      <td>0</td>\n",
       "      <td>X</td>\n",
       "      <td>X</td>\n",
       "      <td>34.0448</td>\n",
       "      <td>-118.2474</td>\n",
       "    </tr>\n",
       "    <tr>\n",
       "      <th>3</th>\n",
       "      <td>2020-01-01 17:30:00</td>\n",
       "      <td>15</td>\n",
       "      <td>76</td>\n",
       "      <td>F</td>\n",
       "      <td>W</td>\n",
       "      <td>34.1685</td>\n",
       "      <td>-118.4019</td>\n",
       "    </tr>\n",
       "    <tr>\n",
       "      <th>4</th>\n",
       "      <td>2020-01-01 04:15:00</td>\n",
       "      <td>19</td>\n",
       "      <td>31</td>\n",
       "      <td>X</td>\n",
       "      <td>X</td>\n",
       "      <td>34.2198</td>\n",
       "      <td>-118.4468</td>\n",
       "    </tr>\n",
       "  </tbody>\n",
       "</table>\n",
       "</div>"
      ],
      "text/plain": [
       "        date_occurred  area  victim_age victim_sex victim_descent  latitude  \\\n",
       "0 2020-01-08 22:30:00     3          36          F              B   34.0141   \n",
       "1 2020-01-01 03:30:00     1          25          M              H   34.0459   \n",
       "2 2020-02-13 12:00:00     1           0          X              X   34.0448   \n",
       "3 2020-01-01 17:30:00    15          76          F              W   34.1685   \n",
       "4 2020-01-01 04:15:00    19          31          X              X   34.2198   \n",
       "\n",
       "   longitude  \n",
       "0  -118.2978  \n",
       "1  -118.2545  \n",
       "2  -118.2474  \n",
       "3  -118.4019  \n",
       "4  -118.4468  "
      ]
     },
     "execution_count": 31,
     "metadata": {},
     "output_type": "execute_result"
    }
   ],
   "source": [
    "\n",
    "# Checking for duplicate entries\n",
    "duplicate_rows = data.duplicated().sum()\n",
    "print(\"重复行数：\", duplicate_rows)\n",
    "# Analyzing the data types of each column to see if any conversions are needed\n",
    "data_types = data.dtypes\n",
    "\n",
    "# print(\"missing_values:\", missing_values, \"duplicate_rows:\", duplicate_rows, \"data_types:\", data_types)\n",
    "\n",
    "# 提取需要用到的数据：\n",
    "# 返回三个DataFrame数据集：有用的数据（包括特征列、标签列以及全称（如犯罪描述列））、特征、标签\n",
    "def get_usefulData_feature_label(data):\n",
    "\n",
    "    # 用字符串\"Unknown\"代替数据中的缺失值.\n",
    "    # 有空值的数据列替换空值后，该数据列的dtype仍然为object\n",
    "    def fill_the_blank(data):\n",
    "        data.fillna(\"Unknown\", inplace=True)\n",
    "    \n",
    "    # 检查数据中是否还有空值\n",
    "    def check(data):\n",
    "        return data.isnull().sum().sum() == 0\n",
    "    \n",
    "    # Convert date columns to datetime\n",
    "    data['date_occurred'] = pd.to_datetime(data['date_occurred'])\n",
    "\n",
    "    # 1、提取相应列\n",
    "    useful_data = data[['date_occurred','area','area_name','victim_age','victim_sex','victim_descent','latitude','longitude','crime_code','crime_description','premise_code','premise_description','weapon_code','weapon_description']]\n",
    "    feature = data[['date_occurred','area','victim_age','victim_sex','victim_descent','latitude','longitude']]\n",
    "    label = data[['crime_code','premise_code','weapon_code']]\n",
    "\n",
    "    # 2、填补缺失值\n",
    "    fill_the_blank(useful_data)\n",
    "    fill_the_blank(feature)\n",
    "    fill_the_blank(label)\n",
    "\n",
    "    # 3、如果检查没有空值则返回数据\n",
    "    if check(useful_data) and check(feature) and check(label):\n",
    "        print(\"空值已处理\")\n",
    "        return useful_data, feature, label\n",
    "    \n",
    "    raise ValueError(\"Some values are not valid.\") \n",
    "\n",
    "\n",
    "useful_data, feature, label = get_usefulData_feature_label(data)\n",
    "\n",
    "print(feature['victim_sex'].dtype)\n",
    "feature.head()\n",
    "    \n",
    "\n"
   ]
  }
 ],
 "metadata": {
  "kernelspec": {
   "display_name": "Python 3 (ipykernel)",
   "language": "python",
   "name": "python3"
  },
  "language_info": {
   "codemirror_mode": {
    "name": "ipython",
    "version": 3
   },
   "file_extension": ".py",
   "mimetype": "text/x-python",
   "name": "python",
   "nbconvert_exporter": "python",
   "pygments_lexer": "ipython3",
   "version": "3.9.17"
  }
 },
 "nbformat": 4,
 "nbformat_minor": 2
}
