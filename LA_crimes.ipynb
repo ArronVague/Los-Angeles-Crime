{
 "cells": [
  {
   "cell_type": "markdown",
   "metadata": {},
   "source": [
    "1. Import"
   ]
  },
  {
   "cell_type": "code",
   "execution_count": 6,
   "metadata": {},
   "outputs": [
    {
     "name": "stdout",
     "output_type": "stream",
     "text": [
      "852950\n",
      "重复行数： 0\n",
      "字段名称               字段类型   缺失值数量\n",
      "division_number      int64      0\n",
      "date_reported        object     0\n",
      "date_occurred        object     0\n",
      "area                 int64      0\n",
      "area_name            object     0\n",
      "reporting_district   int64      0\n",
      "part                 int64      0\n",
      "crime_code           int64      0\n",
      "crime_description    object     0\n",
      "modus_operandi       object     118311\n",
      "victim_age           int64      0\n",
      "victim_sex           object     112606\n",
      "victim_descent       object     112614\n",
      "premise_code         float64    10\n",
      "premise_description  object     518\n",
      "weapon_code          float64    556202\n",
      "weapon_description   object     556202\n",
      "status               object     0\n",
      "status_description   object     0\n",
      "crime_code_1         float64    11\n",
      "crime_code_2         float64    790429\n",
      "crime_code_3         float64    850837\n",
      "crime_code_4         float64    852888\n",
      "location             object     0\n",
      "cross_street         object     717289\n",
      "latitude             float64    0\n",
      "longitude            float64    0\n"
     ]
    },
    {
     "data": {
      "text/html": [
       "<div>\n",
       "<style scoped>\n",
       "    .dataframe tbody tr th:only-of-type {\n",
       "        vertical-align: middle;\n",
       "    }\n",
       "\n",
       "    .dataframe tbody tr th {\n",
       "        vertical-align: top;\n",
       "    }\n",
       "\n",
       "    .dataframe thead th {\n",
       "        text-align: right;\n",
       "    }\n",
       "</style>\n",
       "<table border=\"1\" class=\"dataframe\">\n",
       "  <thead>\n",
       "    <tr style=\"text-align: right;\">\n",
       "      <th></th>\n",
       "      <th>division_number</th>\n",
       "      <th>date_reported</th>\n",
       "      <th>date_occurred</th>\n",
       "      <th>area</th>\n",
       "      <th>area_name</th>\n",
       "      <th>reporting_district</th>\n",
       "      <th>part</th>\n",
       "      <th>crime_code</th>\n",
       "      <th>crime_description</th>\n",
       "      <th>modus_operandi</th>\n",
       "      <th>...</th>\n",
       "      <th>status</th>\n",
       "      <th>status_description</th>\n",
       "      <th>crime_code_1</th>\n",
       "      <th>crime_code_2</th>\n",
       "      <th>crime_code_3</th>\n",
       "      <th>crime_code_4</th>\n",
       "      <th>location</th>\n",
       "      <th>cross_street</th>\n",
       "      <th>latitude</th>\n",
       "      <th>longitude</th>\n",
       "    </tr>\n",
       "  </thead>\n",
       "  <tbody>\n",
       "    <tr>\n",
       "      <th>0</th>\n",
       "      <td>10304468</td>\n",
       "      <td>2020-01-08</td>\n",
       "      <td>2020-01-08 22:30:00</td>\n",
       "      <td>3</td>\n",
       "      <td>Southwest</td>\n",
       "      <td>377</td>\n",
       "      <td>2</td>\n",
       "      <td>624</td>\n",
       "      <td>BATTERY - SIMPLE ASSAULT</td>\n",
       "      <td>0444 0913</td>\n",
       "      <td>...</td>\n",
       "      <td>AO</td>\n",
       "      <td>Adult Other</td>\n",
       "      <td>624.0</td>\n",
       "      <td>NaN</td>\n",
       "      <td>NaN</td>\n",
       "      <td>NaN</td>\n",
       "      <td>1100 W  39TH                         PL</td>\n",
       "      <td>NaN</td>\n",
       "      <td>34.0141</td>\n",
       "      <td>-118.2978</td>\n",
       "    </tr>\n",
       "    <tr>\n",
       "      <th>1</th>\n",
       "      <td>190101086</td>\n",
       "      <td>2020-01-02</td>\n",
       "      <td>2020-01-01 03:30:00</td>\n",
       "      <td>1</td>\n",
       "      <td>Central</td>\n",
       "      <td>163</td>\n",
       "      <td>2</td>\n",
       "      <td>624</td>\n",
       "      <td>BATTERY - SIMPLE ASSAULT</td>\n",
       "      <td>0416 1822 1414</td>\n",
       "      <td>...</td>\n",
       "      <td>IC</td>\n",
       "      <td>Invest Cont</td>\n",
       "      <td>624.0</td>\n",
       "      <td>NaN</td>\n",
       "      <td>NaN</td>\n",
       "      <td>NaN</td>\n",
       "      <td>700 S  HILL                         ST</td>\n",
       "      <td>NaN</td>\n",
       "      <td>34.0459</td>\n",
       "      <td>-118.2545</td>\n",
       "    </tr>\n",
       "    <tr>\n",
       "      <th>2</th>\n",
       "      <td>200110444</td>\n",
       "      <td>2020-04-14</td>\n",
       "      <td>2020-02-13 12:00:00</td>\n",
       "      <td>1</td>\n",
       "      <td>Central</td>\n",
       "      <td>155</td>\n",
       "      <td>2</td>\n",
       "      <td>845</td>\n",
       "      <td>SEX OFFENDER REGISTRANT OUT OF COMPLIANCE</td>\n",
       "      <td>1501</td>\n",
       "      <td>...</td>\n",
       "      <td>AA</td>\n",
       "      <td>Adult Arrest</td>\n",
       "      <td>845.0</td>\n",
       "      <td>NaN</td>\n",
       "      <td>NaN</td>\n",
       "      <td>NaN</td>\n",
       "      <td>200 E  6TH                          ST</td>\n",
       "      <td>NaN</td>\n",
       "      <td>34.0448</td>\n",
       "      <td>-118.2474</td>\n",
       "    </tr>\n",
       "    <tr>\n",
       "      <th>3</th>\n",
       "      <td>191501505</td>\n",
       "      <td>2020-01-01</td>\n",
       "      <td>2020-01-01 17:30:00</td>\n",
       "      <td>15</td>\n",
       "      <td>N Hollywood</td>\n",
       "      <td>1543</td>\n",
       "      <td>2</td>\n",
       "      <td>745</td>\n",
       "      <td>VANDALISM - MISDEAMEANOR ($399 OR UNDER)</td>\n",
       "      <td>0329 1402</td>\n",
       "      <td>...</td>\n",
       "      <td>IC</td>\n",
       "      <td>Invest Cont</td>\n",
       "      <td>745.0</td>\n",
       "      <td>998.0</td>\n",
       "      <td>NaN</td>\n",
       "      <td>NaN</td>\n",
       "      <td>5400    CORTEEN                      PL</td>\n",
       "      <td>NaN</td>\n",
       "      <td>34.1685</td>\n",
       "      <td>-118.4019</td>\n",
       "    </tr>\n",
       "    <tr>\n",
       "      <th>4</th>\n",
       "      <td>191921269</td>\n",
       "      <td>2020-01-01</td>\n",
       "      <td>2020-01-01 04:15:00</td>\n",
       "      <td>19</td>\n",
       "      <td>Mission</td>\n",
       "      <td>1998</td>\n",
       "      <td>2</td>\n",
       "      <td>740</td>\n",
       "      <td>VANDALISM - FELONY ($400 &amp; OVER, ALL CHURCH VA...</td>\n",
       "      <td>0329</td>\n",
       "      <td>...</td>\n",
       "      <td>IC</td>\n",
       "      <td>Invest Cont</td>\n",
       "      <td>740.0</td>\n",
       "      <td>NaN</td>\n",
       "      <td>NaN</td>\n",
       "      <td>NaN</td>\n",
       "      <td>14400    TITUS                        ST</td>\n",
       "      <td>NaN</td>\n",
       "      <td>34.2198</td>\n",
       "      <td>-118.4468</td>\n",
       "    </tr>\n",
       "  </tbody>\n",
       "</table>\n",
       "<p>5 rows × 27 columns</p>\n",
       "</div>"
      ],
      "text/plain": [
       "   division_number date_reported        date_occurred  area    area_name  \\\n",
       "0         10304468    2020-01-08  2020-01-08 22:30:00     3    Southwest   \n",
       "1        190101086    2020-01-02  2020-01-01 03:30:00     1      Central   \n",
       "2        200110444    2020-04-14  2020-02-13 12:00:00     1      Central   \n",
       "3        191501505    2020-01-01  2020-01-01 17:30:00    15  N Hollywood   \n",
       "4        191921269    2020-01-01  2020-01-01 04:15:00    19      Mission   \n",
       "\n",
       "   reporting_district  part  crime_code  \\\n",
       "0                 377     2         624   \n",
       "1                 163     2         624   \n",
       "2                 155     2         845   \n",
       "3                1543     2         745   \n",
       "4                1998     2         740   \n",
       "\n",
       "                                   crime_description  modus_operandi  ...  \\\n",
       "0                           BATTERY - SIMPLE ASSAULT       0444 0913  ...   \n",
       "1                           BATTERY - SIMPLE ASSAULT  0416 1822 1414  ...   \n",
       "2          SEX OFFENDER REGISTRANT OUT OF COMPLIANCE            1501  ...   \n",
       "3           VANDALISM - MISDEAMEANOR ($399 OR UNDER)       0329 1402  ...   \n",
       "4  VANDALISM - FELONY ($400 & OVER, ALL CHURCH VA...            0329  ...   \n",
       "\n",
       "   status status_description crime_code_1  crime_code_2 crime_code_3  \\\n",
       "0      AO        Adult Other        624.0           NaN          NaN   \n",
       "1      IC        Invest Cont        624.0           NaN          NaN   \n",
       "2      AA       Adult Arrest        845.0           NaN          NaN   \n",
       "3      IC        Invest Cont        745.0         998.0          NaN   \n",
       "4      IC        Invest Cont        740.0           NaN          NaN   \n",
       "\n",
       "   crime_code_4                                  location cross_street  \\\n",
       "0           NaN   1100 W  39TH                         PL          NaN   \n",
       "1           NaN    700 S  HILL                         ST          NaN   \n",
       "2           NaN    200 E  6TH                          ST          NaN   \n",
       "3           NaN   5400    CORTEEN                      PL          NaN   \n",
       "4           NaN  14400    TITUS                        ST          NaN   \n",
       "\n",
       "  latitude  longitude  \n",
       "0  34.0141  -118.2978  \n",
       "1  34.0459  -118.2545  \n",
       "2  34.0448  -118.2474  \n",
       "3  34.1685  -118.4019  \n",
       "4  34.2198  -118.4468  \n",
       "\n",
       "[5 rows x 27 columns]"
      ]
     },
     "execution_count": 6,
     "metadata": {},
     "output_type": "execute_result"
    }
   ],
   "source": [
    "import pandas as pd\n",
    "import numpy as np\n",
    "import matplotlib.pyplot as plt\n",
    "import plotly.express as px\n",
    "import plotly.graph_objects as go\n",
    "import nbformat\n",
    "\n",
    "%config InlineBackend.figure_format = 'retina'\n",
    "\n",
    "# import data\n",
    "data = pd.read_csv('Crime_Data_from_2020_to_Present.csv')\n",
    "print(len(data))\n",
    "duplicate_rows = data.duplicated().sum()  # 重复的行数\n",
    "missing_values = data.isnull().sum()  # 每列的缺失值数量\n",
    "print(\"重复行数：\", duplicate_rows)\n",
    "print(\"{:<18} {:<6} {}\".format(\"字段名称\", \"字段类型\", \"缺失值数量\"))\n",
    "for i in range(len(data.columns)):\n",
    "    print(\"{:<20} {:<10} {}\".format(data.columns[i], str(data.dtypes.iloc[i]), str(missing_values.iloc[i])))\n",
    "\n",
    "data.head()"
   ]
  },
  {
   "cell_type": "markdown",
   "metadata": {},
   "source": [
    "2. Clean Data"
   ]
  },
  {
   "cell_type": "code",
   "execution_count": 7,
   "metadata": {},
   "outputs": [
    {
     "name": "stdout",
     "output_type": "stream",
     "text": [
      "空值已处理\n"
     ]
    },
    {
     "data": {
      "text/html": [
       "<div>\n",
       "<style scoped>\n",
       "    .dataframe tbody tr th:only-of-type {\n",
       "        vertical-align: middle;\n",
       "    }\n",
       "\n",
       "    .dataframe tbody tr th {\n",
       "        vertical-align: top;\n",
       "    }\n",
       "\n",
       "    .dataframe thead th {\n",
       "        text-align: right;\n",
       "    }\n",
       "</style>\n",
       "<table border=\"1\" class=\"dataframe\">\n",
       "  <thead>\n",
       "    <tr style=\"text-align: right;\">\n",
       "      <th></th>\n",
       "      <th>month_day</th>\n",
       "      <th>area</th>\n",
       "      <th>victim_age</th>\n",
       "      <th>victim_sex</th>\n",
       "      <th>victim_descent</th>\n",
       "      <th>latitude</th>\n",
       "      <th>longitude</th>\n",
       "    </tr>\n",
       "  </thead>\n",
       "  <tbody>\n",
       "    <tr>\n",
       "      <th>0</th>\n",
       "      <td>01-08</td>\n",
       "      <td>3</td>\n",
       "      <td>36</td>\n",
       "      <td>F</td>\n",
       "      <td>B</td>\n",
       "      <td>34.0141</td>\n",
       "      <td>-118.2978</td>\n",
       "    </tr>\n",
       "    <tr>\n",
       "      <th>1</th>\n",
       "      <td>01-01</td>\n",
       "      <td>1</td>\n",
       "      <td>25</td>\n",
       "      <td>M</td>\n",
       "      <td>H</td>\n",
       "      <td>34.0459</td>\n",
       "      <td>-118.2545</td>\n",
       "    </tr>\n",
       "    <tr>\n",
       "      <th>2</th>\n",
       "      <td>02-13</td>\n",
       "      <td>1</td>\n",
       "      <td>0</td>\n",
       "      <td>X</td>\n",
       "      <td>X</td>\n",
       "      <td>34.0448</td>\n",
       "      <td>-118.2474</td>\n",
       "    </tr>\n",
       "    <tr>\n",
       "      <th>3</th>\n",
       "      <td>01-01</td>\n",
       "      <td>15</td>\n",
       "      <td>76</td>\n",
       "      <td>F</td>\n",
       "      <td>W</td>\n",
       "      <td>34.1685</td>\n",
       "      <td>-118.4019</td>\n",
       "    </tr>\n",
       "    <tr>\n",
       "      <th>4</th>\n",
       "      <td>01-01</td>\n",
       "      <td>19</td>\n",
       "      <td>31</td>\n",
       "      <td>X</td>\n",
       "      <td>X</td>\n",
       "      <td>34.2198</td>\n",
       "      <td>-118.4468</td>\n",
       "    </tr>\n",
       "  </tbody>\n",
       "</table>\n",
       "</div>"
      ],
      "text/plain": [
       "  month_day  area  victim_age victim_sex victim_descent  latitude  longitude\n",
       "0     01-08     3          36          F              B   34.0141  -118.2978\n",
       "1     01-01     1          25          M              H   34.0459  -118.2545\n",
       "2     02-13     1           0          X              X   34.0448  -118.2474\n",
       "3     01-01    15          76          F              W   34.1685  -118.4019\n",
       "4     01-01    19          31          X              X   34.2198  -118.4468"
      ]
     },
     "execution_count": 7,
     "metadata": {},
     "output_type": "execute_result"
    }
   ],
   "source": [
    "# 提取需要用到的数据：\n",
    "# 返回三个DataFrame数据集：有用的数据（包括特征列、标签列以及全称（如犯罪描述列））、特征、标签\n",
    "def get_usefulData_feature_label(data):\n",
    "\n",
    "    # 用字符串\"Unknown\"代替object类型的列中的缺失值，-1代替float、int.\n",
    "    def fill_the_blank(data):\n",
    "        for column in data.columns:\n",
    "            if data[column].dtype == 'object':\n",
    "                data[column].fillna('Unknown', inplace=True)\n",
    "            elif data[column].dtype in ['float64', 'int64']:\n",
    "                data[column].fillna(-1, inplace=True)\n",
    "    \n",
    "    # 检查数据中是否还有空值\n",
    "    def check(data):\n",
    "        return data.isnull().sum().sum() == 0\n",
    "    \n",
    "    # Convert date columns to datetime\n",
    "    data['date_occurred'] = pd.to_datetime(data['date_occurred'])\n",
    "    data['month_day'] = data['date_occurred'].dt.strftime('%m-%d') # 月日\n",
    "    data['specific_time'] = data['date_occurred'].dt.strftime('%H:%M:%S') # 时分秒\n",
    "\n",
    "    # 1、提取相应列\n",
    "    useful_data = data[['date_occurred','month_day','specific_time','area','area_name','victim_age','victim_sex','victim_descent','latitude','longitude','crime_code','crime_description','premise_code','premise_description','weapon_code','weapon_description']].copy()\n",
    "    feature = data[['month_day','area','victim_age','victim_sex','victim_descent','latitude','longitude']].copy()\n",
    "    label = data[['specific_time','crime_code','premise_code','weapon_code']].copy()\n",
    "\n",
    "    # 2、填补缺失值\n",
    "    fill_the_blank(useful_data)\n",
    "    fill_the_blank(feature)\n",
    "    fill_the_blank(label)\n",
    "\n",
    "    # 3、如果检查没有空值则返回数据\n",
    "    if check(useful_data) and check(feature) and check(label):\n",
    "        print(\"空值已处理\")\n",
    "        return useful_data, feature, label\n",
    "    \n",
    "    raise ValueError(\"Some values are not valid.\") \n",
    "\n",
    "\n",
    "useful_data, feature, label = get_usefulData_feature_label(data)\n",
    "\n",
    "feature.head()"
   ]
  },
  {
   "cell_type": "code",
   "execution_count": 8,
   "metadata": {},
   "outputs": [
    {
     "data": {
      "text/html": [
       "<div>\n",
       "<style scoped>\n",
       "    .dataframe tbody tr th:only-of-type {\n",
       "        vertical-align: middle;\n",
       "    }\n",
       "\n",
       "    .dataframe tbody tr th {\n",
       "        vertical-align: top;\n",
       "    }\n",
       "\n",
       "    .dataframe thead th {\n",
       "        text-align: right;\n",
       "    }\n",
       "</style>\n",
       "<table border=\"1\" class=\"dataframe\">\n",
       "  <thead>\n",
       "    <tr style=\"text-align: right;\">\n",
       "      <th></th>\n",
       "      <th>specific_time</th>\n",
       "      <th>crime_code</th>\n",
       "      <th>premise_code</th>\n",
       "      <th>weapon_code</th>\n",
       "    </tr>\n",
       "  </thead>\n",
       "  <tbody>\n",
       "    <tr>\n",
       "      <th>0</th>\n",
       "      <td>22:30:00</td>\n",
       "      <td>624</td>\n",
       "      <td>501.0</td>\n",
       "      <td>400.0</td>\n",
       "    </tr>\n",
       "    <tr>\n",
       "      <th>1</th>\n",
       "      <td>03:30:00</td>\n",
       "      <td>624</td>\n",
       "      <td>102.0</td>\n",
       "      <td>500.0</td>\n",
       "    </tr>\n",
       "    <tr>\n",
       "      <th>2</th>\n",
       "      <td>12:00:00</td>\n",
       "      <td>845</td>\n",
       "      <td>726.0</td>\n",
       "      <td>-1.0</td>\n",
       "    </tr>\n",
       "    <tr>\n",
       "      <th>3</th>\n",
       "      <td>17:30:00</td>\n",
       "      <td>745</td>\n",
       "      <td>502.0</td>\n",
       "      <td>-1.0</td>\n",
       "    </tr>\n",
       "    <tr>\n",
       "      <th>4</th>\n",
       "      <td>04:15:00</td>\n",
       "      <td>740</td>\n",
       "      <td>409.0</td>\n",
       "      <td>-1.0</td>\n",
       "    </tr>\n",
       "  </tbody>\n",
       "</table>\n",
       "</div>"
      ],
      "text/plain": [
       "  specific_time  crime_code  premise_code  weapon_code\n",
       "0      22:30:00         624         501.0        400.0\n",
       "1      03:30:00         624         102.0        500.0\n",
       "2      12:00:00         845         726.0         -1.0\n",
       "3      17:30:00         745         502.0         -1.0\n",
       "4      04:15:00         740         409.0         -1.0"
      ]
     },
     "execution_count": 8,
     "metadata": {},
     "output_type": "execute_result"
    }
   ],
   "source": [
    "label.head()"
   ]
  },
  {
   "cell_type": "markdown",
   "metadata": {},
   "source": [
    "查看location的基数，决定是否将其作为特征。再顺便看一下其他被选为特征、标签的字段的基数情况。"
   ]
  },
  {
   "cell_type": "code",
   "execution_count": 9,
   "metadata": {},
   "outputs": [
    {
     "data": {
      "text/plain": [
       "location\n",
       "800 N  ALAMEDA                      ST      1581\n",
       "6TH                          ST             1425\n",
       "7TH                          ST             1361\n",
       "10200    SANTA MONICA                 BL    1348\n",
       "7TH                                         1343\n",
       "                                            ... \n",
       "9800    LURLINE                      AV        1\n",
       "2100    REDROCK                      CT        1\n",
       "137TH                        ST                1\n",
       "SOPHIA                                         1\n",
       "6400 N  FIGUEROAA                    ST        1\n",
       "Name: count, Length: 64317, dtype: int64"
      ]
     },
     "execution_count": 9,
     "metadata": {},
     "output_type": "execute_result"
    }
   ],
   "source": [
    "data['location'].value_counts()"
   ]
  },
  {
   "cell_type": "markdown",
   "metadata": {},
   "source": [
    "虽然location字段没有缺失值，但是种类太多，不利于后续的分析，所以决定抛弃location值。"
   ]
  },
  {
   "cell_type": "markdown",
   "metadata": {},
   "source": [
    "3. Data Overview"
   ]
  },
  {
   "cell_type": "code",
   "execution_count": 10,
   "metadata": {},
   "outputs": [
    {
     "name": "stdout",
     "output_type": "stream",
     "text": [
      "nbformat version: 5.9.2\n"
     ]
    },
    {
     "data": {
      "application/vnd.plotly.v1+json": {
       "config": {
        "plotlyServerURL": "https://plot.ly"
       },
       "data": [
        {
         "customdata": [
          [
           57691,
           33.93293380943302,
           -117.85292159262276
          ],
          [
           40072,
           33.9758802480535,
           -117.9701744135556
          ],
          [
           47858,
           33.97384581261231,
           -118.15585553303524
          ],
          [
           31932,
           33.96584411875235,
           -117.89601276149317
          ],
          [
           35104,
           33.71191591556518,
           -118.07634697185506
          ],
          [
           45018,
           33.85545847216669,
           -117.4833234928251
          ],
          [
           40648,
           33.952019555697696,
           -117.97067008462902
          ],
          [
           39181,
           34.010682968785886,
           -118.29854281411909
          ],
          [
           36070,
           34.11042171610757,
           -118.21072734405323
          ],
          [
           35851,
           34.15193035619647,
           -118.39856815430532
          ],
          [
           36725,
           34.06729530020422,
           -118.1065790524166
          ],
          [
           53631,
           33.89087063638567,
           -117.99500806063658
          ],
          [
           42743,
           33.931302613293404,
           -117.98953546779589
          ],
          [
           49850,
           33.86646623470411,
           -118.01356945235706
          ],
          [
           42455,
           34.09744499116712,
           -118.12817479919916
          ],
          [
           28375,
           34.15957711365639,
           -118.06972952951541
          ],
          [
           34644,
           34.15532726590463,
           -118.21050694492553
          ],
          [
           43357,
           33.813637156629845,
           -117.83070425075536
          ],
          [
           34011,
           34.14105989826821,
           -118.05361345741085
          ],
          [
           42979,
           33.957096619279184,
           -117.9425922566835
          ],
          [
           34755,
           34.16263328729679,
           -118.49864921018558
          ]
         ],
         "hovertemplate": "<b>%{hovertext}</b><br><br>counts=%{marker.color}<br>latitude=%{customdata[1]}<br>longitude=%{customdata[2]}<extra></extra>",
         "hovertext": [
          1,
          2,
          3,
          4,
          5,
          6,
          7,
          8,
          9,
          10,
          11,
          12,
          13,
          14,
          15,
          16,
          17,
          18,
          19,
          20,
          21
         ],
         "lat": [
          33.93293380943302,
          33.9758802480535,
          33.97384581261231,
          33.96584411875235,
          33.71191591556518,
          33.85545847216669,
          33.952019555697696,
          34.010682968785886,
          34.11042171610757,
          34.15193035619647,
          34.06729530020422,
          33.89087063638567,
          33.931302613293404,
          33.86646623470411,
          34.09744499116712,
          34.15957711365639,
          34.15532726590463,
          33.813637156629845,
          34.14105989826821,
          33.957096619279184,
          34.16263328729679
         ],
         "legendgroup": "",
         "lon": [
          -117.85292159262276,
          -117.9701744135556,
          -118.15585553303524,
          -117.89601276149317,
          -118.07634697185506,
          -117.4833234928251,
          -117.97067008462902,
          -118.29854281411909,
          -118.21072734405323,
          -118.39856815430532,
          -118.1065790524166,
          -117.99500806063658,
          -117.98953546779589,
          -118.01356945235706,
          -118.12817479919916,
          -118.06972952951541,
          -118.21050694492553,
          -117.83070425075536,
          -118.05361345741085,
          -117.9425922566835,
          -118.49864921018558
         ],
         "marker": {
          "color": [
           57691,
           40072,
           47858,
           31932,
           35104,
           45018,
           40648,
           39181,
           36070,
           35851,
           36725,
           53631,
           42743,
           49850,
           42455,
           28375,
           34644,
           43357,
           34011,
           42979,
           34755
          ],
          "coloraxis": "coloraxis",
          "size": [
           57691,
           40072,
           47858,
           31932,
           35104,
           45018,
           40648,
           39181,
           36070,
           35851,
           36725,
           53631,
           42743,
           49850,
           42455,
           28375,
           34644,
           43357,
           34011,
           42979,
           34755
          ],
          "sizemode": "area",
          "sizeref": 144.2275
         },
         "mode": "markers",
         "name": "",
         "showlegend": false,
         "subplot": "mapbox",
         "type": "scattermapbox"
        }
       ],
       "layout": {
        "coloraxis": {
         "colorbar": {
          "title": {
           "text": "counts"
          }
         },
         "colorscale": [
          [
           0,
           "rgb(0,0,131)"
          ],
          [
           0.2,
           "rgb(0,60,170)"
          ],
          [
           0.4,
           "rgb(5,255,255)"
          ],
          [
           0.6,
           "rgb(255,255,0)"
          ],
          [
           0.8,
           "rgb(250,0,0)"
          ],
          [
           1,
           "rgb(128,0,0)"
          ]
         ]
        },
        "height": 750,
        "legend": {
         "itemsizing": "constant",
         "tracegroupgap": 0
        },
        "mapbox": {
         "center": {
          "lat": 33.99445924238859,
          "lon": -118.05484788782739
         },
         "domain": {
          "x": [
           0,
           1
          ],
          "y": [
           0,
           1
          ]
         },
         "style": "open-street-map",
         "zoom": 9
        },
        "template": {
         "data": {
          "bar": [
           {
            "error_x": {
             "color": "#2a3f5f"
            },
            "error_y": {
             "color": "#2a3f5f"
            },
            "marker": {
             "line": {
              "color": "#E5ECF6",
              "width": 0.5
             },
             "pattern": {
              "fillmode": "overlay",
              "size": 10,
              "solidity": 0.2
             }
            },
            "type": "bar"
           }
          ],
          "barpolar": [
           {
            "marker": {
             "line": {
              "color": "#E5ECF6",
              "width": 0.5
             },
             "pattern": {
              "fillmode": "overlay",
              "size": 10,
              "solidity": 0.2
             }
            },
            "type": "barpolar"
           }
          ],
          "carpet": [
           {
            "aaxis": {
             "endlinecolor": "#2a3f5f",
             "gridcolor": "white",
             "linecolor": "white",
             "minorgridcolor": "white",
             "startlinecolor": "#2a3f5f"
            },
            "baxis": {
             "endlinecolor": "#2a3f5f",
             "gridcolor": "white",
             "linecolor": "white",
             "minorgridcolor": "white",
             "startlinecolor": "#2a3f5f"
            },
            "type": "carpet"
           }
          ],
          "choropleth": [
           {
            "colorbar": {
             "outlinewidth": 0,
             "ticks": ""
            },
            "type": "choropleth"
           }
          ],
          "contour": [
           {
            "colorbar": {
             "outlinewidth": 0,
             "ticks": ""
            },
            "colorscale": [
             [
              0,
              "#0d0887"
             ],
             [
              0.1111111111111111,
              "#46039f"
             ],
             [
              0.2222222222222222,
              "#7201a8"
             ],
             [
              0.3333333333333333,
              "#9c179e"
             ],
             [
              0.4444444444444444,
              "#bd3786"
             ],
             [
              0.5555555555555556,
              "#d8576b"
             ],
             [
              0.6666666666666666,
              "#ed7953"
             ],
             [
              0.7777777777777778,
              "#fb9f3a"
             ],
             [
              0.8888888888888888,
              "#fdca26"
             ],
             [
              1,
              "#f0f921"
             ]
            ],
            "type": "contour"
           }
          ],
          "contourcarpet": [
           {
            "colorbar": {
             "outlinewidth": 0,
             "ticks": ""
            },
            "type": "contourcarpet"
           }
          ],
          "heatmap": [
           {
            "colorbar": {
             "outlinewidth": 0,
             "ticks": ""
            },
            "colorscale": [
             [
              0,
              "#0d0887"
             ],
             [
              0.1111111111111111,
              "#46039f"
             ],
             [
              0.2222222222222222,
              "#7201a8"
             ],
             [
              0.3333333333333333,
              "#9c179e"
             ],
             [
              0.4444444444444444,
              "#bd3786"
             ],
             [
              0.5555555555555556,
              "#d8576b"
             ],
             [
              0.6666666666666666,
              "#ed7953"
             ],
             [
              0.7777777777777778,
              "#fb9f3a"
             ],
             [
              0.8888888888888888,
              "#fdca26"
             ],
             [
              1,
              "#f0f921"
             ]
            ],
            "type": "heatmap"
           }
          ],
          "heatmapgl": [
           {
            "colorbar": {
             "outlinewidth": 0,
             "ticks": ""
            },
            "colorscale": [
             [
              0,
              "#0d0887"
             ],
             [
              0.1111111111111111,
              "#46039f"
             ],
             [
              0.2222222222222222,
              "#7201a8"
             ],
             [
              0.3333333333333333,
              "#9c179e"
             ],
             [
              0.4444444444444444,
              "#bd3786"
             ],
             [
              0.5555555555555556,
              "#d8576b"
             ],
             [
              0.6666666666666666,
              "#ed7953"
             ],
             [
              0.7777777777777778,
              "#fb9f3a"
             ],
             [
              0.8888888888888888,
              "#fdca26"
             ],
             [
              1,
              "#f0f921"
             ]
            ],
            "type": "heatmapgl"
           }
          ],
          "histogram": [
           {
            "marker": {
             "pattern": {
              "fillmode": "overlay",
              "size": 10,
              "solidity": 0.2
             }
            },
            "type": "histogram"
           }
          ],
          "histogram2d": [
           {
            "colorbar": {
             "outlinewidth": 0,
             "ticks": ""
            },
            "colorscale": [
             [
              0,
              "#0d0887"
             ],
             [
              0.1111111111111111,
              "#46039f"
             ],
             [
              0.2222222222222222,
              "#7201a8"
             ],
             [
              0.3333333333333333,
              "#9c179e"
             ],
             [
              0.4444444444444444,
              "#bd3786"
             ],
             [
              0.5555555555555556,
              "#d8576b"
             ],
             [
              0.6666666666666666,
              "#ed7953"
             ],
             [
              0.7777777777777778,
              "#fb9f3a"
             ],
             [
              0.8888888888888888,
              "#fdca26"
             ],
             [
              1,
              "#f0f921"
             ]
            ],
            "type": "histogram2d"
           }
          ],
          "histogram2dcontour": [
           {
            "colorbar": {
             "outlinewidth": 0,
             "ticks": ""
            },
            "colorscale": [
             [
              0,
              "#0d0887"
             ],
             [
              0.1111111111111111,
              "#46039f"
             ],
             [
              0.2222222222222222,
              "#7201a8"
             ],
             [
              0.3333333333333333,
              "#9c179e"
             ],
             [
              0.4444444444444444,
              "#bd3786"
             ],
             [
              0.5555555555555556,
              "#d8576b"
             ],
             [
              0.6666666666666666,
              "#ed7953"
             ],
             [
              0.7777777777777778,
              "#fb9f3a"
             ],
             [
              0.8888888888888888,
              "#fdca26"
             ],
             [
              1,
              "#f0f921"
             ]
            ],
            "type": "histogram2dcontour"
           }
          ],
          "mesh3d": [
           {
            "colorbar": {
             "outlinewidth": 0,
             "ticks": ""
            },
            "type": "mesh3d"
           }
          ],
          "parcoords": [
           {
            "line": {
             "colorbar": {
              "outlinewidth": 0,
              "ticks": ""
             }
            },
            "type": "parcoords"
           }
          ],
          "pie": [
           {
            "automargin": true,
            "type": "pie"
           }
          ],
          "scatter": [
           {
            "fillpattern": {
             "fillmode": "overlay",
             "size": 10,
             "solidity": 0.2
            },
            "type": "scatter"
           }
          ],
          "scatter3d": [
           {
            "line": {
             "colorbar": {
              "outlinewidth": 0,
              "ticks": ""
             }
            },
            "marker": {
             "colorbar": {
              "outlinewidth": 0,
              "ticks": ""
             }
            },
            "type": "scatter3d"
           }
          ],
          "scattercarpet": [
           {
            "marker": {
             "colorbar": {
              "outlinewidth": 0,
              "ticks": ""
             }
            },
            "type": "scattercarpet"
           }
          ],
          "scattergeo": [
           {
            "marker": {
             "colorbar": {
              "outlinewidth": 0,
              "ticks": ""
             }
            },
            "type": "scattergeo"
           }
          ],
          "scattergl": [
           {
            "marker": {
             "colorbar": {
              "outlinewidth": 0,
              "ticks": ""
             }
            },
            "type": "scattergl"
           }
          ],
          "scattermapbox": [
           {
            "marker": {
             "colorbar": {
              "outlinewidth": 0,
              "ticks": ""
             }
            },
            "type": "scattermapbox"
           }
          ],
          "scatterpolar": [
           {
            "marker": {
             "colorbar": {
              "outlinewidth": 0,
              "ticks": ""
             }
            },
            "type": "scatterpolar"
           }
          ],
          "scatterpolargl": [
           {
            "marker": {
             "colorbar": {
              "outlinewidth": 0,
              "ticks": ""
             }
            },
            "type": "scatterpolargl"
           }
          ],
          "scatterternary": [
           {
            "marker": {
             "colorbar": {
              "outlinewidth": 0,
              "ticks": ""
             }
            },
            "type": "scatterternary"
           }
          ],
          "surface": [
           {
            "colorbar": {
             "outlinewidth": 0,
             "ticks": ""
            },
            "colorscale": [
             [
              0,
              "#0d0887"
             ],
             [
              0.1111111111111111,
              "#46039f"
             ],
             [
              0.2222222222222222,
              "#7201a8"
             ],
             [
              0.3333333333333333,
              "#9c179e"
             ],
             [
              0.4444444444444444,
              "#bd3786"
             ],
             [
              0.5555555555555556,
              "#d8576b"
             ],
             [
              0.6666666666666666,
              "#ed7953"
             ],
             [
              0.7777777777777778,
              "#fb9f3a"
             ],
             [
              0.8888888888888888,
              "#fdca26"
             ],
             [
              1,
              "#f0f921"
             ]
            ],
            "type": "surface"
           }
          ],
          "table": [
           {
            "cells": {
             "fill": {
              "color": "#EBF0F8"
             },
             "line": {
              "color": "white"
             }
            },
            "header": {
             "fill": {
              "color": "#C8D4E3"
             },
             "line": {
              "color": "white"
             }
            },
            "type": "table"
           }
          ]
         },
         "layout": {
          "annotationdefaults": {
           "arrowcolor": "#2a3f5f",
           "arrowhead": 0,
           "arrowwidth": 1
          },
          "autotypenumbers": "strict",
          "coloraxis": {
           "colorbar": {
            "outlinewidth": 0,
            "ticks": ""
           }
          },
          "colorscale": {
           "diverging": [
            [
             0,
             "#8e0152"
            ],
            [
             0.1,
             "#c51b7d"
            ],
            [
             0.2,
             "#de77ae"
            ],
            [
             0.3,
             "#f1b6da"
            ],
            [
             0.4,
             "#fde0ef"
            ],
            [
             0.5,
             "#f7f7f7"
            ],
            [
             0.6,
             "#e6f5d0"
            ],
            [
             0.7,
             "#b8e186"
            ],
            [
             0.8,
             "#7fbc41"
            ],
            [
             0.9,
             "#4d9221"
            ],
            [
             1,
             "#276419"
            ]
           ],
           "sequential": [
            [
             0,
             "#0d0887"
            ],
            [
             0.1111111111111111,
             "#46039f"
            ],
            [
             0.2222222222222222,
             "#7201a8"
            ],
            [
             0.3333333333333333,
             "#9c179e"
            ],
            [
             0.4444444444444444,
             "#bd3786"
            ],
            [
             0.5555555555555556,
             "#d8576b"
            ],
            [
             0.6666666666666666,
             "#ed7953"
            ],
            [
             0.7777777777777778,
             "#fb9f3a"
            ],
            [
             0.8888888888888888,
             "#fdca26"
            ],
            [
             1,
             "#f0f921"
            ]
           ],
           "sequentialminus": [
            [
             0,
             "#0d0887"
            ],
            [
             0.1111111111111111,
             "#46039f"
            ],
            [
             0.2222222222222222,
             "#7201a8"
            ],
            [
             0.3333333333333333,
             "#9c179e"
            ],
            [
             0.4444444444444444,
             "#bd3786"
            ],
            [
             0.5555555555555556,
             "#d8576b"
            ],
            [
             0.6666666666666666,
             "#ed7953"
            ],
            [
             0.7777777777777778,
             "#fb9f3a"
            ],
            [
             0.8888888888888888,
             "#fdca26"
            ],
            [
             1,
             "#f0f921"
            ]
           ]
          },
          "colorway": [
           "#636efa",
           "#EF553B",
           "#00cc96",
           "#ab63fa",
           "#FFA15A",
           "#19d3f3",
           "#FF6692",
           "#B6E880",
           "#FF97FF",
           "#FECB52"
          ],
          "font": {
           "color": "#2a3f5f"
          },
          "geo": {
           "bgcolor": "white",
           "lakecolor": "white",
           "landcolor": "#E5ECF6",
           "showlakes": true,
           "showland": true,
           "subunitcolor": "white"
          },
          "hoverlabel": {
           "align": "left"
          },
          "hovermode": "closest",
          "mapbox": {
           "style": "light"
          },
          "paper_bgcolor": "white",
          "plot_bgcolor": "#E5ECF6",
          "polar": {
           "angularaxis": {
            "gridcolor": "white",
            "linecolor": "white",
            "ticks": ""
           },
           "bgcolor": "#E5ECF6",
           "radialaxis": {
            "gridcolor": "white",
            "linecolor": "white",
            "ticks": ""
           }
          },
          "scene": {
           "xaxis": {
            "backgroundcolor": "#E5ECF6",
            "gridcolor": "white",
            "gridwidth": 2,
            "linecolor": "white",
            "showbackground": true,
            "ticks": "",
            "zerolinecolor": "white"
           },
           "yaxis": {
            "backgroundcolor": "#E5ECF6",
            "gridcolor": "white",
            "gridwidth": 2,
            "linecolor": "white",
            "showbackground": true,
            "ticks": "",
            "zerolinecolor": "white"
           },
           "zaxis": {
            "backgroundcolor": "#E5ECF6",
            "gridcolor": "white",
            "gridwidth": 2,
            "linecolor": "white",
            "showbackground": true,
            "ticks": "",
            "zerolinecolor": "white"
           }
          },
          "shapedefaults": {
           "line": {
            "color": "#2a3f5f"
           }
          },
          "ternary": {
           "aaxis": {
            "gridcolor": "white",
            "linecolor": "white",
            "ticks": ""
           },
           "baxis": {
            "gridcolor": "white",
            "linecolor": "white",
            "ticks": ""
           },
           "bgcolor": "#E5ECF6",
           "caxis": {
            "gridcolor": "white",
            "linecolor": "white",
            "ticks": ""
           }
          },
          "title": {
           "x": 0.05
          },
          "xaxis": {
           "automargin": true,
           "gridcolor": "white",
           "linecolor": "white",
           "ticks": "",
           "title": {
            "standoff": 15
           },
           "zerolinecolor": "white",
           "zerolinewidth": 2
          },
          "yaxis": {
           "automargin": true,
           "gridcolor": "white",
           "linecolor": "white",
           "ticks": "",
           "title": {
            "standoff": 15
           },
           "zerolinecolor": "white",
           "zerolinewidth": 2
          }
         }
        },
        "title": {
         "text": "Map of LA Crime Counts by District"
        },
        "width": 1200
       }
      }
     },
     "metadata": {},
     "output_type": "display_data"
    }
   ],
   "source": [
    "print(\"nbformat version:\", nbformat.__version__)\n",
    "\n",
    "district_crime_counts = feature.groupby('area').agg(latitude=('latitude', 'mean'), longitude=('longitude', 'mean'), counts=('area', 'count')).reset_index()\n",
    "\n",
    "fig = px.scatter_mapbox(district_crime_counts, lat=\"latitude\", lon=\"longitude\", size=\"counts\", color=\"counts\", hover_name=\"area\", color_continuous_scale=\"jet\", hover_data=[\"counts\", \"latitude\", \"longitude\"], zoom=9, height=750, width=1_200, title=\"Map of LA Crime Counts by District\")\n",
    "fig.update_layout(mapbox_style=\"open-street-map\")\n",
    "fig.show()"
   ]
  }
 ],
 "metadata": {
  "kernelspec": {
   "display_name": "ml",
   "language": "python",
   "name": "python3"
  },
  "language_info": {
   "codemirror_mode": {
    "name": "ipython",
    "version": 3
   },
   "file_extension": ".py",
   "mimetype": "text/x-python",
   "name": "python",
   "nbconvert_exporter": "python",
   "pygments_lexer": "ipython3",
   "version": "3.9.17"
  }
 },
 "nbformat": 4,
 "nbformat_minor": 2
}
